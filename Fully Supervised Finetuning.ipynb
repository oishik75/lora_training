{
 "cells": [
  {
   "cell_type": "markdown",
   "id": "b72d433a",
   "metadata": {},
   "source": [
    "### Load Dataset"
   ]
  },
  {
   "cell_type": "code",
   "execution_count": 1,
   "id": "d5385438",
   "metadata": {},
   "outputs": [],
   "source": [
    "from datasets import load_dataset"
   ]
  },
  {
   "cell_type": "code",
   "execution_count": 2,
   "id": "ba0b9df2",
   "metadata": {},
   "outputs": [
    {
     "name": "stderr",
     "output_type": "stream",
     "text": [
      "Found cached dataset parquet (D:/Code/summarization_lora/cache/CarperAI___parquet/CarperAI--openai_summarize_tldr-536d9955f5e6f921/0.0.0/2a3b91fbd88a2c90d1dbbb32b460cf621d31bd5b05b934492fdef7d8d6f236ec)\n"
     ]
    },
    {
     "data": {
      "application/vnd.jupyter.widget-view+json": {
       "model_id": "f944f7cdfb99403dab2ef60a3ef2700d",
       "version_major": 2,
       "version_minor": 0
      },
      "text/plain": [
       "  0%|          | 0/3 [00:00<?, ?it/s]"
      ]
     },
     "metadata": {},
     "output_type": "display_data"
    }
   ],
   "source": [
    "dataset = load_dataset(\"CarperAI/openai_summarize_tldr\", cache_dir=\"cache\")"
   ]
  },
  {
   "cell_type": "code",
   "execution_count": 3,
   "id": "f2485c77",
   "metadata": {},
   "outputs": [
    {
     "data": {
      "text/plain": [
       "DatasetDict({\n",
       "    train: Dataset({\n",
       "        features: ['prompt', 'label'],\n",
       "        num_rows: 116722\n",
       "    })\n",
       "    test: Dataset({\n",
       "        features: ['prompt', 'label'],\n",
       "        num_rows: 6553\n",
       "    })\n",
       "    valid: Dataset({\n",
       "        features: ['prompt', 'label'],\n",
       "        num_rows: 6447\n",
       "    })\n",
       "})"
      ]
     },
     "execution_count": 3,
     "metadata": {},
     "output_type": "execute_result"
    }
   ],
   "source": [
    "dataset"
   ]
  },
  {
   "cell_type": "markdown",
   "id": "cf0499b4",
   "metadata": {},
   "source": [
    "### Process Dataset"
   ]
  },
  {
   "cell_type": "code",
   "execution_count": 4,
   "id": "b7576a08",
   "metadata": {},
   "outputs": [],
   "source": [
    "from transformers import AutoTokenizer"
   ]
  },
  {
   "cell_type": "code",
   "execution_count": 5,
   "id": "533a58ae",
   "metadata": {},
   "outputs": [],
   "source": [
    "tokenizer = AutoTokenizer.from_pretrained(\"t5-small\", cache_dir=\"cache\")"
   ]
  },
  {
   "cell_type": "code",
   "execution_count": 6,
   "id": "1ea404de",
   "metadata": {},
   "outputs": [],
   "source": [
    "MAX_SOURCE_LENGTH = 512\n",
    "MAX_TARGET_LENGTH = 512"
   ]
  },
  {
   "cell_type": "code",
   "execution_count": 7,
   "id": "b4e13ebb",
   "metadata": {},
   "outputs": [],
   "source": [
    "def tokenize(batch):\n",
    "    tokenized_input = tokenizer(batch['prompt'], truncation=True, max_length=MAX_SOURCE_LENGTH, padding=\"max_length\")\n",
    "    tokenized_output = tokenizer(batch['label'], truncation=True, max_length=MAX_SOURCE_LENGTH, padding=\"max_length\")\n",
    "    return {\"input_ids\": tokenized_input[\"input_ids\"], \"attention_mask\": tokenized_input[\"attention_mask\"], \"labels\": tokenized_output[\"input_ids\"]}"
   ]
  },
  {
   "cell_type": "code",
   "execution_count": 8,
   "id": "be9df6ed",
   "metadata": {},
   "outputs": [
    {
     "name": "stderr",
     "output_type": "stream",
     "text": [
      "Loading cached processed dataset at D:\\Code\\summarization_lora\\cache\\CarperAI___parquet\\CarperAI--openai_summarize_tldr-536d9955f5e6f921\\0.0.0\\2a3b91fbd88a2c90d1dbbb32b460cf621d31bd5b05b934492fdef7d8d6f236ec\\cache-fb1ccf883e812870.arrow\n",
      "Loading cached processed dataset at D:\\Code\\summarization_lora\\cache\\CarperAI___parquet\\CarperAI--openai_summarize_tldr-536d9955f5e6f921\\0.0.0\\2a3b91fbd88a2c90d1dbbb32b460cf621d31bd5b05b934492fdef7d8d6f236ec\\cache-94000f9ce8270320.arrow\n",
      "Loading cached processed dataset at D:\\Code\\summarization_lora\\cache\\CarperAI___parquet\\CarperAI--openai_summarize_tldr-536d9955f5e6f921\\0.0.0\\2a3b91fbd88a2c90d1dbbb32b460cf621d31bd5b05b934492fdef7d8d6f236ec\\cache-602b54ebd6988695.arrow\n"
     ]
    },
    {
     "data": {
      "text/plain": [
       "DatasetDict({\n",
       "    train: Dataset({\n",
       "        features: ['input_ids', 'attention_mask', 'labels'],\n",
       "        num_rows: 116722\n",
       "    })\n",
       "    test: Dataset({\n",
       "        features: ['input_ids', 'attention_mask', 'labels'],\n",
       "        num_rows: 6553\n",
       "    })\n",
       "    valid: Dataset({\n",
       "        features: ['input_ids', 'attention_mask', 'labels'],\n",
       "        num_rows: 6447\n",
       "    })\n",
       "})"
      ]
     },
     "execution_count": 8,
     "metadata": {},
     "output_type": "execute_result"
    }
   ],
   "source": [
    "tokenized_dataset = dataset.map(tokenize, remove_columns=dataset['train'].column_names, batched=True, batch_size=512)\n",
    "tokenized_dataset"
   ]
  },
  {
   "cell_type": "markdown",
   "id": "f9d0011b",
   "metadata": {},
   "source": [
    "### Load Model"
   ]
  },
  {
   "cell_type": "code",
   "execution_count": 9,
   "id": "7183f9e5",
   "metadata": {},
   "outputs": [],
   "source": [
    "from transformers import T5ForConditionalGeneration"
   ]
  },
  {
   "cell_type": "code",
   "execution_count": 19,
   "id": "7021452e",
   "metadata": {},
   "outputs": [],
   "source": [
    "model = T5ForConditionalGeneration.from_pretrained(\"t5-small\", cache_dir=\"cache\")"
   ]
  },
  {
   "cell_type": "code",
   "execution_count": 11,
   "id": "80ff0781",
   "metadata": {},
   "outputs": [
    {
     "name": "stdout",
     "output_type": "stream",
     "text": [
      "Model size: 60.5M parameters\n"
     ]
    }
   ],
   "source": [
    "model_size = sum(t.numel() for t in model.parameters())\n",
    "print(f\"Model size: {model_size/1000**2:.1f}M parameters\")"
   ]
  },
  {
   "cell_type": "markdown",
   "id": "ce7ed215",
   "metadata": {},
   "source": [
    "### Training"
   ]
  },
  {
   "cell_type": "code",
   "execution_count": 12,
   "id": "4ade8ebe",
   "metadata": {},
   "outputs": [],
   "source": [
    "from transformers import Trainer, TrainingArguments"
   ]
  },
  {
   "cell_type": "code",
   "execution_count": 17,
   "id": "baf7af71",
   "metadata": {},
   "outputs": [],
   "source": [
    "training_args = TrainingArguments(\n",
    "    output_dir=\"models\",\n",
    "    logging_dir=\"logs\",\n",
    "    per_device_train_batch_size=8,\n",
    "    per_device_eval_batch_size=8,\n",
    "    evaluation_strategy=\"steps\",\n",
    "    eval_steps=500,\n",
    "    logging_steps=500,\n",
    "    gradient_accumulation_steps=8,\n",
    "    num_train_epochs=10,\n",
    "    weight_decay=0.1,\n",
    "    warmup_steps=1000,\n",
    "    lr_scheduler_type=\"cosine\",\n",
    "    learning_rate=1e-3,\n",
    "    save_steps=1000,\n",
    "    save_total_limit=1,\n",
    "    fp16=True,\n",
    "    report_to=\"tensorboard\"\n",
    ")"
   ]
  },
  {
   "cell_type": "code",
   "execution_count": 20,
   "id": "64be22e5",
   "metadata": {},
   "outputs": [
    {
     "name": "stderr",
     "output_type": "stream",
     "text": [
      "D:\\Code\\summarization_huggingface\\summarization_env\\lib\\site-packages\\transformers\\optimization.py:411: FutureWarning: This implementation of AdamW is deprecated and will be removed in a future version. Use the PyTorch implementation torch.optim.AdamW instead, or set `no_deprecation_warning=True` to disable this warning\n",
      "  warnings.warn(\n"
     ]
    },
    {
     "data": {
      "text/html": [
       "\n",
       "    <div>\n",
       "      \n",
       "      <progress value='18230' max='18230' style='width:300px; height:20px; vertical-align: middle;'></progress>\n",
       "      [18230/18230 5:20:12, Epoch 9/10]\n",
       "    </div>\n",
       "    <table border=\"1\" class=\"dataframe\">\n",
       "  <thead>\n",
       " <tr style=\"text-align: left;\">\n",
       "      <th>Step</th>\n",
       "      <th>Training Loss</th>\n",
       "      <th>Validation Loss</th>\n",
       "    </tr>\n",
       "  </thead>\n",
       "  <tbody>\n",
       "    <tr>\n",
       "      <td>500</td>\n",
       "      <td>1.566600</td>\n",
       "      <td>0.193968</td>\n",
       "    </tr>\n",
       "    <tr>\n",
       "      <td>1000</td>\n",
       "      <td>0.202400</td>\n",
       "      <td>0.190083</td>\n",
       "    </tr>\n",
       "    <tr>\n",
       "      <td>1500</td>\n",
       "      <td>0.198700</td>\n",
       "      <td>0.186475</td>\n",
       "    </tr>\n",
       "    <tr>\n",
       "      <td>2000</td>\n",
       "      <td>0.194000</td>\n",
       "      <td>0.184552</td>\n",
       "    </tr>\n",
       "    <tr>\n",
       "      <td>2500</td>\n",
       "      <td>0.190000</td>\n",
       "      <td>0.182870</td>\n",
       "    </tr>\n",
       "    <tr>\n",
       "      <td>3000</td>\n",
       "      <td>0.189700</td>\n",
       "      <td>0.181831</td>\n",
       "    </tr>\n",
       "    <tr>\n",
       "      <td>3500</td>\n",
       "      <td>0.188700</td>\n",
       "      <td>0.181482</td>\n",
       "    </tr>\n",
       "    <tr>\n",
       "      <td>4000</td>\n",
       "      <td>0.184100</td>\n",
       "      <td>0.180699</td>\n",
       "    </tr>\n",
       "    <tr>\n",
       "      <td>4500</td>\n",
       "      <td>0.182700</td>\n",
       "      <td>0.179669</td>\n",
       "    </tr>\n",
       "    <tr>\n",
       "      <td>5000</td>\n",
       "      <td>0.183100</td>\n",
       "      <td>0.178697</td>\n",
       "    </tr>\n",
       "    <tr>\n",
       "      <td>5500</td>\n",
       "      <td>0.182000</td>\n",
       "      <td>0.178451</td>\n",
       "    </tr>\n",
       "    <tr>\n",
       "      <td>6000</td>\n",
       "      <td>0.175900</td>\n",
       "      <td>0.178244</td>\n",
       "    </tr>\n",
       "    <tr>\n",
       "      <td>6500</td>\n",
       "      <td>0.177400</td>\n",
       "      <td>0.177558</td>\n",
       "    </tr>\n",
       "    <tr>\n",
       "      <td>7000</td>\n",
       "      <td>0.176700</td>\n",
       "      <td>0.176358</td>\n",
       "    </tr>\n",
       "    <tr>\n",
       "      <td>7500</td>\n",
       "      <td>0.174200</td>\n",
       "      <td>0.177243</td>\n",
       "    </tr>\n",
       "    <tr>\n",
       "      <td>8000</td>\n",
       "      <td>0.170700</td>\n",
       "      <td>0.176827</td>\n",
       "    </tr>\n",
       "    <tr>\n",
       "      <td>8500</td>\n",
       "      <td>0.172200</td>\n",
       "      <td>0.175425</td>\n",
       "    </tr>\n",
       "    <tr>\n",
       "      <td>9000</td>\n",
       "      <td>0.171900</td>\n",
       "      <td>0.174809</td>\n",
       "    </tr>\n",
       "    <tr>\n",
       "      <td>9500</td>\n",
       "      <td>0.166400</td>\n",
       "      <td>0.175492</td>\n",
       "    </tr>\n",
       "    <tr>\n",
       "      <td>10000</td>\n",
       "      <td>0.165600</td>\n",
       "      <td>0.174843</td>\n",
       "    </tr>\n",
       "    <tr>\n",
       "      <td>10500</td>\n",
       "      <td>0.166500</td>\n",
       "      <td>0.174758</td>\n",
       "    </tr>\n",
       "    <tr>\n",
       "      <td>11000</td>\n",
       "      <td>0.165700</td>\n",
       "      <td>0.175039</td>\n",
       "    </tr>\n",
       "    <tr>\n",
       "      <td>11500</td>\n",
       "      <td>0.159900</td>\n",
       "      <td>0.174446</td>\n",
       "    </tr>\n",
       "    <tr>\n",
       "      <td>12000</td>\n",
       "      <td>0.160900</td>\n",
       "      <td>0.174352</td>\n",
       "    </tr>\n",
       "    <tr>\n",
       "      <td>12500</td>\n",
       "      <td>0.160900</td>\n",
       "      <td>0.173640</td>\n",
       "    </tr>\n",
       "    <tr>\n",
       "      <td>13000</td>\n",
       "      <td>0.158600</td>\n",
       "      <td>0.174197</td>\n",
       "    </tr>\n",
       "    <tr>\n",
       "      <td>13500</td>\n",
       "      <td>0.155500</td>\n",
       "      <td>0.173857</td>\n",
       "    </tr>\n",
       "    <tr>\n",
       "      <td>14000</td>\n",
       "      <td>0.156100</td>\n",
       "      <td>0.173551</td>\n",
       "    </tr>\n",
       "    <tr>\n",
       "      <td>14500</td>\n",
       "      <td>0.156200</td>\n",
       "      <td>0.173213</td>\n",
       "    </tr>\n",
       "    <tr>\n",
       "      <td>15000</td>\n",
       "      <td>0.153500</td>\n",
       "      <td>0.173986</td>\n",
       "    </tr>\n",
       "    <tr>\n",
       "      <td>15500</td>\n",
       "      <td>0.152600</td>\n",
       "      <td>0.173709</td>\n",
       "    </tr>\n",
       "    <tr>\n",
       "      <td>16000</td>\n",
       "      <td>0.152700</td>\n",
       "      <td>0.173599</td>\n",
       "    </tr>\n",
       "    <tr>\n",
       "      <td>16500</td>\n",
       "      <td>0.152400</td>\n",
       "      <td>0.173876</td>\n",
       "    </tr>\n",
       "    <tr>\n",
       "      <td>17000</td>\n",
       "      <td>0.151200</td>\n",
       "      <td>0.173776</td>\n",
       "    </tr>\n",
       "    <tr>\n",
       "      <td>17500</td>\n",
       "      <td>0.151600</td>\n",
       "      <td>0.173718</td>\n",
       "    </tr>\n",
       "    <tr>\n",
       "      <td>18000</td>\n",
       "      <td>0.150700</td>\n",
       "      <td>0.173734</td>\n",
       "    </tr>\n",
       "  </tbody>\n",
       "</table><p>"
      ],
      "text/plain": [
       "<IPython.core.display.HTML object>"
      ]
     },
     "metadata": {},
     "output_type": "display_data"
    },
    {
     "data": {
      "text/plain": [
       "TrainOutput(global_step=18230, training_loss=0.20809626513892848, metrics={'train_runtime': 19213.7937, 'train_samples_per_second': 60.749, 'train_steps_per_second': 0.949, 'total_flos': 1.5789867815613235e+17, 'train_loss': 0.20809626513892848, 'epoch': 10.0})"
      ]
     },
     "execution_count": 20,
     "metadata": {},
     "output_type": "execute_result"
    }
   ],
   "source": [
    "trainer = Trainer(\n",
    "    model=model,\n",
    "    tokenizer=tokenizer,\n",
    "    args=training_args,\n",
    "    train_dataset=tokenized_dataset[\"train\"],\n",
    "    eval_dataset=tokenized_dataset[\"valid\"]\n",
    ")\n",
    "\n",
    "trainer.train()"
   ]
  },
  {
   "cell_type": "code",
   "execution_count": 27,
   "id": "22fede18",
   "metadata": {},
   "outputs": [],
   "source": [
    "output_model_path = \"models/fully_supervised_t5-small\"\n",
    "model.save_pretrained(output_model_path)"
   ]
  },
  {
   "cell_type": "markdown",
   "id": "5fb54de8",
   "metadata": {},
   "source": [
    "### Evaluation"
   ]
  },
  {
   "cell_type": "code",
   "execution_count": 1,
   "id": "95484935",
   "metadata": {},
   "outputs": [],
   "source": [
    "from datasets import load_dataset"
   ]
  },
  {
   "cell_type": "code",
   "execution_count": 2,
   "id": "994fa7aa",
   "metadata": {
    "scrolled": true
   },
   "outputs": [
    {
     "name": "stderr",
     "output_type": "stream",
     "text": [
      "Found cached dataset parquet (D:/Code/summarization_lora/cache/CarperAI___parquet/CarperAI--openai_summarize_tldr-536d9955f5e6f921/0.0.0/2a3b91fbd88a2c90d1dbbb32b460cf621d31bd5b05b934492fdef7d8d6f236ec)\n"
     ]
    }
   ],
   "source": [
    "dataset = load_dataset(\"CarperAI/openai_summarize_tldr\", split=\"test\", cache_dir=\"cache\")"
   ]
  },
  {
   "cell_type": "code",
   "execution_count": 3,
   "id": "874d33cb",
   "metadata": {
    "scrolled": false
   },
   "outputs": [
    {
     "data": {
      "text/plain": [
       "Dataset({\n",
       "    features: ['prompt', 'label'],\n",
       "    num_rows: 6553\n",
       "})"
      ]
     },
     "execution_count": 3,
     "metadata": {},
     "output_type": "execute_result"
    }
   ],
   "source": [
    "dataset"
   ]
  },
  {
   "cell_type": "code",
   "execution_count": 4,
   "id": "d322d99a",
   "metadata": {},
   "outputs": [],
   "source": [
    "from transformers import AutoTokenizer"
   ]
  },
  {
   "cell_type": "code",
   "execution_count": 5,
   "id": "1b916979",
   "metadata": {},
   "outputs": [],
   "source": [
    "tokenizer = AutoTokenizer.from_pretrained(\"t5-small\", cache_dir=\"cache\")"
   ]
  },
  {
   "cell_type": "code",
   "execution_count": 6,
   "id": "e1f49c9b",
   "metadata": {},
   "outputs": [],
   "source": [
    "MAX_SOURCE_LENGTH = 512"
   ]
  },
  {
   "cell_type": "code",
   "execution_count": 9,
   "id": "c688c573",
   "metadata": {},
   "outputs": [],
   "source": [
    "def tokenize(batch):\n",
    "    tokenized_input = tokenizer(batch['prompt'], truncation=True, max_length=MAX_SOURCE_LENGTH, padding=\"max_length\")\n",
    "    return {\"input_ids\": tokenized_input[\"input_ids\"], \"attention_mask\": tokenized_input[\"attention_mask\"]}"
   ]
  },
  {
   "cell_type": "code",
   "execution_count": 10,
   "id": "5cdf8e4b",
   "metadata": {},
   "outputs": [
    {
     "data": {
      "application/vnd.jupyter.widget-view+json": {
       "model_id": "",
       "version_major": 2,
       "version_minor": 0
      },
      "text/plain": [
       "Map:   0%|          | 0/6553 [00:00<?, ? examples/s]"
      ]
     },
     "metadata": {},
     "output_type": "display_data"
    },
    {
     "data": {
      "text/plain": [
       "Dataset({\n",
       "    features: ['prompt', 'label', 'input_ids', 'attention_mask'],\n",
       "    num_rows: 6553\n",
       "})"
      ]
     },
     "execution_count": 10,
     "metadata": {},
     "output_type": "execute_result"
    }
   ],
   "source": [
    "tokenized_dataset = dataset.map(tokenize, batched=True, batch_size=512)\n",
    "tokenized_dataset"
   ]
  },
  {
   "cell_type": "code",
   "execution_count": 11,
   "id": "54d1f434",
   "metadata": {},
   "outputs": [],
   "source": [
    "from transformers import T5ForConditionalGeneration"
   ]
  },
  {
   "cell_type": "code",
   "execution_count": 12,
   "id": "941eaa4b",
   "metadata": {},
   "outputs": [],
   "source": [
    "model = T5ForConditionalGeneration.from_pretrained(\"models/fully_supervised_t5-small\")"
   ]
  },
  {
   "cell_type": "code",
   "execution_count": 13,
   "id": "7f900c9d",
   "metadata": {},
   "outputs": [],
   "source": [
    "device = \"cuda\"\n",
    "model = model.to(device)"
   ]
  },
  {
   "cell_type": "code",
   "execution_count": 14,
   "id": "ca893046",
   "metadata": {},
   "outputs": [],
   "source": [
    "import torch"
   ]
  },
  {
   "cell_type": "code",
   "execution_count": 15,
   "id": "98fbdd8f",
   "metadata": {},
   "outputs": [],
   "source": [
    "input_ids = torch.tensor(tokenized_dataset[\"input_ids\"]).squeeze().to(device)\n",
    "attention_masks = torch.tensor(tokenized_dataset[\"attention_mask\"]).squeeze().to(device)"
   ]
  },
  {
   "cell_type": "code",
   "execution_count": 16,
   "id": "9723301a",
   "metadata": {},
   "outputs": [],
   "source": [
    "from torch.utils.data import TensorDataset, DataLoader"
   ]
  },
  {
   "cell_type": "code",
   "execution_count": 17,
   "id": "dfb37604",
   "metadata": {},
   "outputs": [],
   "source": [
    "dataset = TensorDataset(input_ids, attention_masks)\n",
    "dataloader = DataLoader(dataset, batch_size=32, shuffle=False)"
   ]
  },
  {
   "cell_type": "code",
   "execution_count": 18,
   "id": "aaaf29ac",
   "metadata": {},
   "outputs": [],
   "source": [
    "from tqdm import tqdm"
   ]
  },
  {
   "cell_type": "code",
   "execution_count": 19,
   "id": "3c77861a",
   "metadata": {},
   "outputs": [
    {
     "name": "stderr",
     "output_type": "stream",
     "text": [
      "100%|████████████████████████████████████████████████████████████████████████████████| 205/205 [01:59<00:00,  1.71it/s]\n"
     ]
    }
   ],
   "source": [
    "predicted_summaries = []\n",
    "for batch in tqdm(dataloader):\n",
    "    input_ids, attention_mask = batch\n",
    "    output_ids = model.generate(input_ids, attention_mask=attention_mask, max_new_tokens=50, pad_token_id=tokenizer.eos_token_id)\n",
    "#     print(output_ids.shape)\n",
    "    output_ids = output_ids[:, -50:]\n",
    "#     print(output_ids[0])\n",
    "    output = tokenizer.batch_decode(output_ids, skip_special_tokens=True)\n",
    "    predicted_summaries += output"
   ]
  },
  {
   "cell_type": "code",
   "execution_count": 20,
   "id": "1b22b987",
   "metadata": {},
   "outputs": [
    {
     "data": {
      "text/plain": [
       "6553"
      ]
     },
     "execution_count": 20,
     "metadata": {},
     "output_type": "execute_result"
    }
   ],
   "source": [
    "len(predicted_summaries)"
   ]
  },
  {
   "cell_type": "code",
   "execution_count": 21,
   "id": "6f5c948e",
   "metadata": {},
   "outputs": [
    {
     "data": {
      "text/plain": [
       "'Met a guy on Facebook, slept with him, he said he wanted to play it by ear, not slap labels. Is this a fwb-type situation, or a fw'"
      ]
     },
     "execution_count": 21,
     "metadata": {},
     "output_type": "execute_result"
    }
   ],
   "source": [
    "predicted_summaries[0]"
   ]
  },
  {
   "cell_type": "code",
   "execution_count": 22,
   "id": "10a3d1ed",
   "metadata": {},
   "outputs": [],
   "source": [
    "import evaluate"
   ]
  },
  {
   "cell_type": "code",
   "execution_count": 23,
   "id": "e6b88f97",
   "metadata": {},
   "outputs": [],
   "source": [
    "rouge_score = evaluate.load(\"rouge\")"
   ]
  },
  {
   "cell_type": "code",
   "execution_count": 24,
   "id": "9f0f0543",
   "metadata": {},
   "outputs": [],
   "source": [
    "result = rouge_score.compute(predictions=predicted_summaries, references=tokenized_dataset['label'])"
   ]
  },
  {
   "cell_type": "code",
   "execution_count": 25,
   "id": "43ce9746",
   "metadata": {},
   "outputs": [
    {
     "data": {
      "text/plain": [
       "{'rouge1': 0.3366446030616901,\n",
       " 'rouge2': 0.12388634748208141,\n",
       " 'rougeL': 0.2625270246587339,\n",
       " 'rougeLsum': 0.26232444486870243}"
      ]
     },
     "execution_count": 25,
     "metadata": {},
     "output_type": "execute_result"
    }
   ],
   "source": [
    "result"
   ]
  },
  {
   "cell_type": "code",
   "execution_count": null,
   "id": "81747791",
   "metadata": {},
   "outputs": [],
   "source": []
  }
 ],
 "metadata": {
  "kernelspec": {
   "display_name": "Python 3 (ipykernel)",
   "language": "python",
   "name": "python3"
  },
  "language_info": {
   "codemirror_mode": {
    "name": "ipython",
    "version": 3
   },
   "file_extension": ".py",
   "mimetype": "text/x-python",
   "name": "python",
   "nbconvert_exporter": "python",
   "pygments_lexer": "ipython3",
   "version": "3.9.13"
  }
 },
 "nbformat": 4,
 "nbformat_minor": 5
}
